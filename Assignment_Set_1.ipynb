{
  "nbformat": 4,
  "nbformat_minor": 0,
  "metadata": {
    "colab": {
      "name": "Assignment Set 1.ipynb",
      "provenance": [],
      "collapsed_sections": []
    },
    "kernelspec": {
      "name": "python3",
      "display_name": "Python 3"
    },
    "language_info": {
      "name": "python"
    }
  },
  "cells": [
    {
      "cell_type": "markdown",
      "metadata": {
        "id": "Bm6xVZ38uz4h"
      },
      "source": [
        "Majority element of an array is defined as a value x for which strictly more than half of array elements are equal to x.\n",
        "Output the majority element of the given array a, or -1 if the array doesn't have majority element.\n",
        "​\n",
        "\n",
        "The first line of the input contains an integer N - the number of elements in the array. 1 <= N <= 100.\n",
        "The second line of the input contains N integers - the elements of the array, separated with single spaces. 1 <= ai <= 100."
      ]
    },
    {
      "cell_type": "code",
      "metadata": {
        "colab": {
          "base_uri": "https://localhost:8080/"
        },
        "id": "UyU4f8DQhg7r",
        "outputId": "3187c5ab-1293-4972-bc6d-9ff3ecf8334d"
      },
      "source": [
        "import pandas as pd\n",
        "\n",
        "n = int(input('N: '))\n",
        "num = input('Array: ')\n",
        "numList = num.split(' ')\n",
        "if len(numList) != n:\n",
        "  print('Input size should be',n,'numbers, but we got', len(numList))\n",
        "else:\n",
        "  num_cnt = pd.Series(numList).value_counts()\n",
        "  if max(num_cnt) >= n/2:\n",
        "    print(num_cnt.idxmax())\n",
        "  else:\n",
        "    print(-1)"
      ],
      "execution_count": 49,
      "outputs": [
        {
          "output_type": "stream",
          "text": [
            "N: 3\n",
            "Array: 1 2 3\n",
            "-1\n"
          ],
          "name": "stdout"
        }
      ]
    },
    {
      "cell_type": "code",
      "metadata": {
        "id": "pTZ5OkS8xld_"
      },
      "source": [
        ""
      ],
      "execution_count": null,
      "outputs": []
    }
  ]
}